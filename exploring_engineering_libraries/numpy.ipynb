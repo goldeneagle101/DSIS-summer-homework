{
 "cells": [
  {
   "cell_type": "markdown",
   "metadata": {},
   "source": [
    "# NumPy"
   ]
  },
  {
   "cell_type": "markdown",
   "metadata": {},
   "source": [
    "## Устанавливаем библиотеку"
   ]
  },
  {
   "cell_type": "markdown",
   "metadata": {},
   "source": [
    "Для установки библиотеки `NumPy` необходимо использовать команду:\n",
    "```\n",
    "pip install numpy\n",
    "```"
   ]
  },
  {
   "cell_type": "markdown",
   "metadata": {},
   "source": [
    "## Проверяем доступность библиотеки"
   ]
  },
  {
   "cell_type": "code",
   "execution_count": 1,
   "metadata": {},
   "outputs": [
    {
     "name": "stdout",
     "output_type": "stream",
     "text": [
      "Версия библиотеки: 1.25.2\n"
     ]
    }
   ],
   "source": [
    "try:\n",
    "    import numpy as np\n",
    "    print(\"Версия библиотеки:\", np.__version__)\n",
    "except:\n",
    "    print(\"Библиотека NumPy недоступна.\")\n",
    "    print(\"Установите ее при помощи команды 'pip install numpy\")"
   ]
  },
  {
   "cell_type": "markdown",
   "metadata": {},
   "source": [
    "## NumPy на примере"
   ]
  },
  {
   "cell_type": "markdown",
   "metadata": {},
   "source": [
    "Создадим массив:"
   ]
  },
  {
   "cell_type": "code",
   "execution_count": 2,
   "metadata": {},
   "outputs": [
    {
     "data": {
      "text/plain": [
       "array([[1, 2, 3],\n",
       "       [4, 5, 6]])"
      ]
     },
     "execution_count": 2,
     "metadata": {},
     "output_type": "execute_result"
    }
   ],
   "source": [
    "np.array([[1,2,3], [4,5,6]])"
   ]
  },
  {
   "cell_type": "markdown",
   "metadata": {},
   "source": [
    "Создадим последовательность с шагом `0.6`:"
   ]
  },
  {
   "cell_type": "code",
   "execution_count": 3,
   "metadata": {},
   "outputs": [
    {
     "data": {
      "text/plain": [
       "array([0. , 0.6, 1.2, 1.8])"
      ]
     },
     "execution_count": 3,
     "metadata": {},
     "output_type": "execute_result"
    }
   ],
   "source": [
    "np.arange(0, 2, 0.6)"
   ]
  },
  {
   "cell_type": "markdown",
   "metadata": {},
   "source": [
    "Создадим равномерный набор точек:\n",
    "\n",
    "```python\n",
    "np.linspace(start, stop[, num, ...])\n",
    "```\n",
    "* `start` - первое число\n",
    "* `stop` - последнее число\n",
    "* `num` - количество чисел"
   ]
  },
  {
   "cell_type": "code",
   "execution_count": 4,
   "metadata": {},
   "outputs": [
    {
     "data": {
      "text/plain": [
       "array([0.        , 0.12555556, 0.25111111, 0.37666667, 0.50222222,\n",
       "       0.62777778, 0.75333333, 0.87888889, 1.00444444, 1.13      ])"
      ]
     },
     "execution_count": 4,
     "metadata": {},
     "output_type": "execute_result"
    }
   ],
   "source": [
    "np.linspace(0, 1.13, 10)"
   ]
  },
  {
   "cell_type": "markdown",
   "metadata": {},
   "source": [
    "Создадим логарифмический набор точек:"
   ]
  },
  {
   "cell_type": "code",
   "execution_count": 5,
   "metadata": {},
   "outputs": [
    {
     "data": {
      "text/plain": [
       "array([   9.        ,   33.63473537,  125.69949149,  469.76323692,\n",
       "       1755.59579557, 6561.        ])"
      ]
     },
     "execution_count": 5,
     "metadata": {},
     "output_type": "execute_result"
    }
   ],
   "source": [
    "np.logspace(2, 8, num=6, base=3)"
   ]
  },
  {
   "cell_type": "markdown",
   "metadata": {},
   "source": [
    "Инициализация массива (ячейки заполняются случайными числами)"
   ]
  },
  {
   "cell_type": "code",
   "execution_count": 6,
   "metadata": {},
   "outputs": [
    {
     "data": {
      "text/plain": [
       "array([[0.12555556, 0.25111111, 0.37666667],\n",
       "       [0.50222222, 0.62777778, 0.75333333],\n",
       "       [0.87888889, 1.00444444, 1.13      ]])"
      ]
     },
     "execution_count": 6,
     "metadata": {},
     "output_type": "execute_result"
    }
   ],
   "source": [
    "np.empty([3, 3])"
   ]
  },
  {
   "cell_type": "markdown",
   "metadata": {},
   "source": [
    "Создадим двухмерный диагональный единичный массив со сдвигом на `k`:"
   ]
  },
  {
   "cell_type": "code",
   "execution_count": 7,
   "metadata": {},
   "outputs": [
    {
     "data": {
      "text/plain": [
       "array([[0., 0., 0., 0., 0., 1., 0., 0., 0., 0.],\n",
       "       [0., 0., 0., 0., 0., 0., 1., 0., 0., 0.],\n",
       "       [0., 0., 0., 0., 0., 0., 0., 1., 0., 0.],\n",
       "       [0., 0., 0., 0., 0., 0., 0., 0., 1., 0.],\n",
       "       [0., 0., 0., 0., 0., 0., 0., 0., 0., 1.],\n",
       "       [0., 0., 0., 0., 0., 0., 0., 0., 0., 0.],\n",
       "       [0., 0., 0., 0., 0., 0., 0., 0., 0., 0.],\n",
       "       [0., 0., 0., 0., 0., 0., 0., 0., 0., 0.],\n",
       "       [0., 0., 0., 0., 0., 0., 0., 0., 0., 0.],\n",
       "       [0., 0., 0., 0., 0., 0., 0., 0., 0., 0.]])"
      ]
     },
     "execution_count": 7,
     "metadata": {},
     "output_type": "execute_result"
    }
   ],
   "source": [
    "np.eye(10, k=5)"
   ]
  },
  {
   "cell_type": "markdown",
   "metadata": {},
   "source": [
    "Создадим двухмерный диагональный произвольный массив:"
   ]
  },
  {
   "cell_type": "code",
   "execution_count": 8,
   "metadata": {},
   "outputs": [
    {
     "data": {
      "text/plain": [
       "array([[   8,    0,    0,    0,    0,    0,    0],\n",
       "       [   0,    4,    0,    0,    0,    0,    0],\n",
       "       [   0,    0, 2435,    0,    0,    0,    0],\n",
       "       [   0,    0,    0,   19,    0,    0,    0],\n",
       "       [   0,    0,    0,    0, -435,    0,    0],\n",
       "       [   0,    0,    0,    0,    0,    0,    0],\n",
       "       [   0,    0,    0,    0,    0,    0,    7]])"
      ]
     },
     "execution_count": 8,
     "metadata": {},
     "output_type": "execute_result"
    }
   ],
   "source": [
    "np.diag([8,4,2435,19,-435,0,7])"
   ]
  },
  {
   "cell_type": "markdown",
   "metadata": {},
   "source": [
    "Инициализируем массивы с единицами, а затем с нулями:"
   ]
  },
  {
   "cell_type": "code",
   "execution_count": 9,
   "metadata": {},
   "outputs": [
    {
     "data": {
      "text/plain": [
       "array([[1., 1., 1., 1., 1., 1.],\n",
       "       [1., 1., 1., 1., 1., 1.],\n",
       "       [1., 1., 1., 1., 1., 1.],\n",
       "       [1., 1., 1., 1., 1., 1.]])"
      ]
     },
     "execution_count": 9,
     "metadata": {},
     "output_type": "execute_result"
    }
   ],
   "source": [
    "np.ones([4,6])"
   ]
  },
  {
   "cell_type": "code",
   "execution_count": 10,
   "metadata": {},
   "outputs": [
    {
     "data": {
      "text/plain": [
       "array([[0., 0.],\n",
       "       [0., 0.],\n",
       "       [0., 0.]])"
      ]
     },
     "execution_count": 10,
     "metadata": {},
     "output_type": "execute_result"
    }
   ],
   "source": [
    "np.zeros([3,2])"
   ]
  },
  {
   "cell_type": "markdown",
   "metadata": {},
   "source": [
    "Создаем нижнюю треугольную матрицу из единиц:"
   ]
  },
  {
   "cell_type": "code",
   "execution_count": 11,
   "metadata": {},
   "outputs": [
    {
     "data": {
      "text/plain": [
       "array([[1., 0., 0., 0., 0.],\n",
       "       [1., 1., 0., 0., 0.],\n",
       "       [1., 1., 1., 0., 0.],\n",
       "       [1., 1., 1., 1., 0.]])"
      ]
     },
     "execution_count": 11,
     "metadata": {},
     "output_type": "execute_result"
    }
   ],
   "source": [
    "np.tri(4,5)"
   ]
  },
  {
   "cell_type": "markdown",
   "metadata": {},
   "source": [
    "Вырежем нижнюю треугольную матрицу:"
   ]
  },
  {
   "cell_type": "code",
   "execution_count": 12,
   "metadata": {},
   "outputs": [
    {
     "name": "stdout",
     "output_type": "stream",
     "text": [
      "Исходный массив:\n",
      " [[94820180328829              0   489626271861   433791696995]\n",
      " [  498216206368   468151435365   476741369968   416611827826]\n",
      " [  450971566194   519691042924   502511173664   416611827822]\n",
      " [  416611827830   463856468073   420906795105   433791697004]]\n",
      "Полученный массив:\n",
      "[[94820180328829              0              0              0]\n",
      " [  498216206368   468151435365              0              0]\n",
      " [  450971566194   519691042924   502511173664              0]\n",
      " [  416611827830   463856468073   420906795105   433791697004]]\n"
     ]
    }
   ],
   "source": [
    "arr = np.empty([4,4], dtype=int)\n",
    "print(\"Исходный массив:\\n\", arr)\n",
    "print(\"Полученный массив:\")\n",
    "print(np.tril(arr))"
   ]
  },
  {
   "cell_type": "markdown",
   "metadata": {},
   "source": [
    "Переопределяем форму массива с возможностью циклического автозаполнения, если будут оставаться пустые ячейки"
   ]
  },
  {
   "cell_type": "code",
   "execution_count": 13,
   "metadata": {},
   "outputs": [
    {
     "name": "stdout",
     "output_type": "stream",
     "text": [
      "Исходный массив:\n",
      " [[ 1  2  3  4]\n",
      " [ 5  6  7  8]\n",
      " [ 9 10 11 12]\n",
      " [13 14 15 16]]\n",
      "Полученный массив:\n",
      "[[ 1  2  3  4  5  6]\n",
      " [ 7  8  9 10 11 12]\n",
      " [13 14 15 16  1  2]]\n"
     ]
    }
   ],
   "source": [
    "arr = np.array([[1, 2, 3, 4], [5, 6, 7, 8], [9, 10, 11, 12], [13, 14, 15, 16]])\n",
    "print(\"Исходный массив:\\n\", arr)\n",
    "print(\"Полученный массив:\")\n",
    "print(np.resize(arr, [3,6]))"
   ]
  },
  {
   "cell_type": "markdown",
   "metadata": {},
   "source": [
    "Переопределим форму массива без возможности циклического автозаполнения (**количество ячеек в новом массиве должно совпадать с количеством в исходном**)"
   ]
  },
  {
   "cell_type": "code",
   "execution_count": 14,
   "metadata": {},
   "outputs": [
    {
     "name": "stdout",
     "output_type": "stream",
     "text": [
      "Исходный массив:\n",
      " [[ 1  2  3  4]\n",
      " [ 5  6  7  8]\n",
      " [ 9 10 11 12]\n",
      " [13 14 15 16]]\n",
      "Полученный массив:\n",
      "[[ 1  2]\n",
      " [ 3  4]\n",
      " [ 5  6]\n",
      " [ 7  8]\n",
      " [ 9 10]\n",
      " [11 12]\n",
      " [13 14]\n",
      " [15 16]]\n"
     ]
    }
   ],
   "source": [
    "arr = np.array([[1, 2, 3, 4], [5, 6, 7, 8], [9, 10, 11, 12], [13, 14, 15, 16]])\n",
    "print(\"Исходный массив:\\n\", arr)\n",
    "print(\"Полученный массив:\")\n",
    "print(np.reshape(arr, [8,2]))"
   ]
  },
  {
   "cell_type": "markdown",
   "metadata": {},
   "source": [
    "Перобразуем исходный массив в новый одномерный:"
   ]
  },
  {
   "cell_type": "code",
   "execution_count": 15,
   "metadata": {},
   "outputs": [
    {
     "name": "stdout",
     "output_type": "stream",
     "text": [
      "Исходный массив:\n",
      " [[ 1  2  3  4]\n",
      " [ 5  6  7  8]\n",
      " [ 9 10 11 12]\n",
      " [13 14 15 16]]\n",
      "Полученный массив:\n",
      "[ 1  2  3  4  5  6  7  8  9 10 11 12 13 14 15 16]\n"
     ]
    }
   ],
   "source": [
    "arr = np.array([[1, 2, 3, 4], [5, 6, 7, 8], [9, 10, 11, 12], [13, 14, 15, 16]])\n",
    "print(\"Исходный массив:\\n\", arr)\n",
    "print(\"Полученный массив:\")\n",
    "print(np.ravel(arr))"
   ]
  },
  {
   "cell_type": "markdown",
   "metadata": {},
   "source": [
    "Сбор одномерных массивов-столбцов в двухмерный."
   ]
  },
  {
   "cell_type": "code",
   "execution_count": 16,
   "metadata": {},
   "outputs": [
    {
     "data": {
      "text/plain": [
       "array([[  1,   5,   9,  13],\n",
       "       [  2,   6,  10,  14],\n",
       "       [  3,   7,  11,  15],\n",
       "       [  4,   8,  12,  16],\n",
       "       [100, 101, 102, 103]])"
      ]
     },
     "execution_count": 16,
     "metadata": {},
     "output_type": "execute_result"
    }
   ],
   "source": [
    "tup = ([1,2,3, 4, 100], [5,6,7,8, 101], [9,10,11,12, 102], [13,14,15,16, 103])\n",
    "np.column_stack(tup)"
   ]
  },
  {
   "cell_type": "markdown",
   "metadata": {},
   "source": [
    "Соединим последовательность массивов вместе"
   ]
  },
  {
   "cell_type": "code",
   "execution_count": 17,
   "metadata": {},
   "outputs": [
    {
     "data": {
      "text/plain": [
       "array([[[1, 2],\n",
       "        [3, 4]],\n",
       "\n",
       "       [[5, 6],\n",
       "        [7, 8]],\n",
       "\n",
       "       [[1, 2],\n",
       "        [3, 4]],\n",
       "\n",
       "       [[5, 6],\n",
       "        [7, 8]]])"
      ]
     },
     "execution_count": 17,
     "metadata": {},
     "output_type": "execute_result"
    }
   ],
   "source": [
    "arr1 = np.array([[[1,2], [3,4]],[[5,6], [7,8]]])\n",
    "arr2 = np.array([[[1,2], [3,4]],[[5,6], [7,8]]])\n",
    "tup = (arr1, arr2)\n",
    "np.concatenate(tup)"
   ]
  },
  {
   "cell_type": "markdown",
   "metadata": {},
   "source": [
    "Повернем массив на $180\\degree$"
   ]
  },
  {
   "cell_type": "code",
   "execution_count": 18,
   "metadata": {},
   "outputs": [
    {
     "name": "stdout",
     "output_type": "stream",
     "text": [
      "Исходный массив:\n",
      " [[ 1  2  3  4]\n",
      " [ 5  6  7  8]\n",
      " [ 9 10 11 12]\n",
      " [13 14 15 16]]\n",
      "Полученный массив:\n",
      "[[16 15 14 13]\n",
      " [12 11 10  9]\n",
      " [ 8  7  6  5]\n",
      " [ 4  3  2  1]]\n"
     ]
    }
   ],
   "source": [
    "arr = np.array([[1, 2, 3, 4], [5, 6, 7, 8], [9, 10, 11, 12], [13, 14, 15, 16]])\n",
    "print(\"Исходный массив:\\n\", arr)\n",
    "print(\"Полученный массив:\")\n",
    "print(np.rot90(arr, k=2))"
   ]
  },
  {
   "cell_type": "markdown",
   "metadata": {},
   "source": [
    "Проверим элементы массива на действительность"
   ]
  },
  {
   "cell_type": "code",
   "execution_count": 19,
   "metadata": {},
   "outputs": [
    {
     "name": "stdout",
     "output_type": "stream",
     "text": [
      "Исходный массив:\n",
      " [[ 1. +0.j  2. +0.j  3. +0.j  4. +0.j]\n",
      " [ 0. +5.j  0. +6.j  0. +7.j  0. +8.j]\n",
      " [ 0. +9.j  0.+10.j 11. +0.j 12. +0.j]\n",
      " [ 0.+13.j 14. +0.j 15. +0.j 16. +0.j]]\n",
      "Полученный массив:\n",
      "[[ True  True  True  True]\n",
      " [False False False False]\n",
      " [False False  True  True]\n",
      " [False  True  True  True]]\n"
     ]
    }
   ],
   "source": [
    "arr = np.array([[1, 2, 3, 4], [5j, 6j, 7j, 8j], [9j, 10j, 11, 12], [13j, 14, 15, 16]])\n",
    "print(\"Исходный массив:\\n\", arr)\n",
    "print(\"Полученный массив:\")\n",
    "print(np.isreal(arr))"
   ]
  },
  {
   "cell_type": "markdown",
   "metadata": {},
   "source": [
    "Перемножение и сложение массивов:"
   ]
  },
  {
   "cell_type": "code",
   "execution_count": 20,
   "metadata": {},
   "outputs": [
    {
     "name": "stdout",
     "output_type": "stream",
     "text": [
      "Результат после умножения:\n",
      "Массив 1:\n",
      " [[ 1  2  3  4]\n",
      " [ 5  6  7  8]\n",
      " [ 9 10 11 12]\n",
      " [13 14 15 16]]\n",
      "Массив 2:\n",
      " [[  1   4   9  16]\n",
      " [ 25  36  49  64]\n",
      " [ 81 100 121 144]\n",
      " [169 196 225 256]]\n",
      "Результат после сложения:\n",
      "Массив 1:\n",
      " [[ 1  2  3  4]\n",
      " [ 5  6  7  8]\n",
      " [ 9 10 11 12]\n",
      " [13 14 15 16]]\n",
      "Массив 2:\n",
      " [[  2   6  12  20]\n",
      " [ 30  42  56  72]\n",
      " [ 90 110 132 156]\n",
      " [182 210 240 272]]\n"
     ]
    }
   ],
   "source": [
    "arr1 = np.array([[1, 2, 3, 4], [5, 6, 7, 8], [9, 10, 11, 12], [13, 14, 15, 16]])\n",
    "# Перемножим массивы arr1 и arr1 (возведем в степень 2)\n",
    "arr2 = np.multiply(arr1, arr1)\n",
    "print(\"Результат после умножения:\")\n",
    "print(\"Массив 1:\\n\", arr1)\n",
    "print(\"Массив 2:\\n\", arr2)\n",
    "# Сложим массивы arr1 и arr2 с сохранение результата в arr2\n",
    "np.add(arr1, arr2, arr2)\n",
    "print(\"Результат после сложения:\")\n",
    "print(\"Массив 1:\\n\", arr1)\n",
    "print(\"Массив 2:\\n\", arr2)\n"
   ]
  },
  {
   "cell_type": "markdown",
   "metadata": {},
   "source": [
    "Попробуем перемножить и сложить массивы более наглядно (при помощи использования операторов)"
   ]
  },
  {
   "cell_type": "code",
   "execution_count": 21,
   "metadata": {},
   "outputs": [
    {
     "name": "stdout",
     "output_type": "stream",
     "text": [
      "Результат после умножения:\n",
      "Массив 1:\n",
      " [[ 1  2  3  4]\n",
      " [ 5  6  7  8]\n",
      " [ 9 10 11 12]\n",
      " [13 14 15 16]]\n",
      "Массив 2:\n",
      " [[  1   4   9  16]\n",
      " [ 25  36  49  64]\n",
      " [ 81 100 121 144]\n",
      " [169 196 225 256]]\n",
      "Результат после сложения:\n",
      "Массив 1:\n",
      " [[ 1  2  3  4]\n",
      " [ 5  6  7  8]\n",
      " [ 9 10 11 12]\n",
      " [13 14 15 16]]\n",
      "Массив 2:\n",
      " [[  2   6  12  20]\n",
      " [ 30  42  56  72]\n",
      " [ 90 110 132 156]\n",
      " [182 210 240 272]]\n"
     ]
    }
   ],
   "source": [
    "arr1 = np.array([[1, 2, 3, 4], [5, 6, 7, 8], [9, 10, 11, 12], [13, 14, 15, 16]])\n",
    "# arr1 * arr1 <=> arr1 ** 2\n",
    "arr2 = arr1**2\n",
    "print(\"Результат после умножения:\")\n",
    "print(\"Массив 1:\\n\", arr1)\n",
    "print(\"Массив 2:\\n\", arr2)\n",
    "arr2 += arr1\n",
    "print(\"Результат после сложения:\")\n",
    "print(\"Массив 1:\\n\", arr1)\n",
    "print(\"Массив 2:\\n\", arr2)"
   ]
  },
  {
   "cell_type": "markdown",
   "metadata": {},
   "source": [
    "Сравним (`>`) массивы (по элементам):"
   ]
  },
  {
   "cell_type": "code",
   "execution_count": 22,
   "metadata": {},
   "outputs": [
    {
     "name": "stdout",
     "output_type": "stream",
     "text": [
      "arr1 > arr2? [[False False False False]\n",
      " [False False False False]\n",
      " [False False False False]\n",
      " [False False False False]]\n",
      "arr1 > arr2? [[False False False False]\n",
      " [False False False False]\n",
      " [False False False False]\n",
      " [False False False False]]\n"
     ]
    }
   ],
   "source": [
    "arr1 = np.array([[1, 2, 3, 4], [5, 6, 7, 8], [9, 10, 11, 12], [13, 14, 15, 16]])\n",
    "arr2 = arr1**2\n",
    "print(\"arr1 > arr2?\", np.greater(arr1, arr2))\n",
    "# Равносильная операция\n",
    "print(\"arr1 > arr2?\", arr1 > arr2)"
   ]
  },
  {
   "cell_type": "markdown",
   "metadata": {},
   "source": [
    "Найдем максимальные элементы из массивов (по элементам):"
   ]
  },
  {
   "cell_type": "code",
   "execution_count": 23,
   "metadata": {},
   "outputs": [
    {
     "data": {
      "text/plain": [
       "array([4, 8, 9, 7])"
      ]
     },
     "execution_count": 23,
     "metadata": {},
     "output_type": "execute_result"
    }
   ],
   "source": [
    "arr1 = [1,8,9,0]\n",
    "arr2 = [4,5,6,7]\n",
    "np.maximum(arr1, arr2)"
   ]
  },
  {
   "cell_type": "markdown",
   "metadata": {},
   "source": [
    "Отсортируем массив:"
   ]
  },
  {
   "cell_type": "code",
   "execution_count": 24,
   "metadata": {},
   "outputs": [
    {
     "name": "stdout",
     "output_type": "stream",
     "text": [
      "Массив до сортировки:\n",
      " [[   1    4    1 -435    2   -4]\n",
      " [   4   25    1   34 -234    4]] \n",
      "Массив после сортировки:\n",
      "[[-435   -4    1    1    2    4]\n",
      " [-234    1    4    4   25   34]]\n"
     ]
    }
   ],
   "source": [
    "arr = np.array([[1,4,1,-435,2,-4], [4,25,1,34,-234, 4]])\n",
    "print(\"Массив до сортировки:\\n\",\n",
    "      arr,\n",
    "      \"\\nМассив после сортировки:\")\n",
    "arr2 = np.sort(arr)\n",
    "print(arr2)\n"
   ]
  },
  {
   "cell_type": "markdown",
   "metadata": {},
   "source": [
    "Отсортируем массив на месте:"
   ]
  },
  {
   "cell_type": "code",
   "execution_count": 25,
   "metadata": {},
   "outputs": [
    {
     "name": "stdout",
     "output_type": "stream",
     "text": [
      "Массив до сортировки:\n",
      " [[   1    4    1 -435    2   -4]\n",
      " [   4   25    1   34 -234    4]] \n",
      "Массив после сортировки:\n",
      "[[-435   -4    1    1    2    4]\n",
      " [-234    1    4    4   25   34]]\n"
     ]
    }
   ],
   "source": [
    "arr = np.array([[1,4,1,-435,2,-4], [4,25,1,34,-234, 4]])\n",
    "print(\"Массив до сортировки:\\n\",\n",
    "      arr,\n",
    "      \"\\nМассив после сортировки:\")\n",
    "arr.sort()\n",
    "print(arr)\n"
   ]
  },
  {
   "cell_type": "markdown",
   "metadata": {},
   "source": [
    "Вычислим определитель матрицы:"
   ]
  },
  {
   "cell_type": "code",
   "execution_count": 26,
   "metadata": {},
   "outputs": [
    {
     "data": {
      "text/plain": [
       "-2.0000000000000004"
      ]
     },
     "execution_count": 26,
     "metadata": {},
     "output_type": "execute_result"
    }
   ],
   "source": [
    "arr = np.array([[1,2],[3,4]])\n",
    "# 1*4 - 2*3 = 4-6 = -2\n",
    "np.linalg.det(arr)"
   ]
  },
  {
   "cell_type": "markdown",
   "metadata": {},
   "source": [
    "Найдем обратную матрицу"
   ]
  },
  {
   "cell_type": "code",
   "execution_count": 27,
   "metadata": {},
   "outputs": [
    {
     "name": "stdout",
     "output_type": "stream",
     "text": [
      "Определитель матрицы равен: -6.0\n",
      "Исходная матрица:\n",
      "[[2 4]\n",
      " [4 5]]\n",
      "\n",
      "Обратная матрица:\n",
      "[[-0.83333333  0.66666667]\n",
      " [ 0.66666667 -0.33333333]]\n",
      "\n",
      "Результата проверки\n",
      " [[ True  True]\n",
      " [ True  True]]\n"
     ]
    }
   ],
   "source": [
    "arr1 = np.array([[2,4], [4,5]])\n",
    "# Ищем определитель\n",
    "det = np.linalg.det(arr1)\n",
    "if det:\n",
    "    print(\"Определитель матрицы равен:\", det)\n",
    "    # Ищем обратную матрицу\n",
    "    arr2 = np.linalg.inv(arr1)\n",
    "    print(\"Исходная матрица:\")\n",
    "    print(arr1)\n",
    "    print(\"\\nОбратная матрица:\")\n",
    "    print(arr2)\n",
    "    # Проверяем корректность расчета\n",
    "    # перемножив исходную матрицу на обратную\n",
    "    mult_arr = arr1.dot(arr2)\n",
    "    # Проверяем соответствие полученно\n",
    "    check_result = np.eye(2) == mult_arr\n",
    "    print(\"\\nРезультата проверки\\n\", check_result)\n",
    "else:\n",
    "    print(\"Операция невозможна. Определитель равен нулю.\")"
   ]
  },
  {
   "cell_type": "markdown",
   "metadata": {},
   "source": [
    "Создадим набор случайных чисел заданной формы:"
   ]
  },
  {
   "cell_type": "code",
   "execution_count": 28,
   "metadata": {},
   "outputs": [
    {
     "data": {
      "text/plain": [
       "array([[0.54837972, 0.05299544],\n",
       "       [0.85146308, 0.38850821]])"
      ]
     },
     "execution_count": 28,
     "metadata": {},
     "output_type": "execute_result"
    }
   ],
   "source": [
    "import numpy.random as rnd\n",
    "\n",
    "rnd.rand(2,2)"
   ]
  },
  {
   "cell_type": "markdown",
   "metadata": {},
   "source": [
    "Создадим случайное целое число при помощи `randint(low[, high, size])`\n",
    "* low - от (включая);\n",
    "* high - до (не включая);\n",
    "* size - число элементов по каждому измерению"
   ]
  },
  {
   "cell_type": "code",
   "execution_count": 29,
   "metadata": {},
   "outputs": [
    {
     "data": {
      "text/plain": [
       "5"
      ]
     },
     "execution_count": 29,
     "metadata": {},
     "output_type": "execute_result"
    }
   ],
   "source": [
    "rnd.randint(3,7 + 1)"
   ]
  },
  {
   "cell_type": "markdown",
   "metadata": {},
   "source": [
    "Теперь создадим одномерный массив (случайные числа от 0 до 100):"
   ]
  },
  {
   "cell_type": "code",
   "execution_count": 30,
   "metadata": {},
   "outputs": [
    {
     "data": {
      "text/plain": [
       "array([56, 17, 98, 17, 46, 93, 51, 86, 67, 30])"
      ]
     },
     "execution_count": 30,
     "metadata": {},
     "output_type": "execute_result"
    }
   ],
   "source": [
    "rnd.randint(0,100 + 1, 10)"
   ]
  },
  {
   "cell_type": "markdown",
   "metadata": {},
   "source": [
    "Создадим двухмерный массив (4 на 5) со случайными числами от 0 до 10:"
   ]
  },
  {
   "cell_type": "code",
   "execution_count": 31,
   "metadata": {},
   "outputs": [
    {
     "data": {
      "text/plain": [
       "array([[ 1,  3,  3,  4,  0],\n",
       "       [ 0,  5, 10,  9,  3],\n",
       "       [ 4,  7,  5,  3,  3],\n",
       "       [ 1,  6,  7,  7,  6]])"
      ]
     },
     "execution_count": 31,
     "metadata": {},
     "output_type": "execute_result"
    }
   ],
   "source": [
    "rnd.randint(0, 10 + 1, [4,5])"
   ]
  },
  {
   "cell_type": "markdown",
   "metadata": {},
   "source": [
    "Сделаем перемешивание массива **на месте**:"
   ]
  },
  {
   "cell_type": "code",
   "execution_count": 32,
   "metadata": {},
   "outputs": [
    {
     "name": "stdout",
     "output_type": "stream",
     "text": [
      "Исходный массив: [78 17 38 47 66 67  1 49 29 83]\n",
      "1 shuffle -> [66 78 17  1 83 47 38 29 49 67]\n",
      "2 shuffle -> [29 78 49 66 67 47  1 17 83 38]\n",
      "3 shuffle -> [66 17 83 67  1 29 49 78 47 38]\n",
      "4 shuffle -> [49 78 66 38 29 47  1 83 67 17]\n",
      "5 shuffle -> [17 38 83 49  1 66 29 67 47 78]\n",
      "6 shuffle -> [ 1 49 67 47 78 17 29 66 83 38]\n",
      "7 shuffle -> [47  1 49 78 17 67 29 66 38 83]\n",
      "8 shuffle -> [78  1 83 17 67 38 66 29 47 49]\n",
      "9 shuffle -> [67 49 17  1 66 83 78 38 47 29]\n"
     ]
    }
   ],
   "source": [
    "arr = rnd.randint(0, 100 + 1, 10)\n",
    "print(\"Исходный массив:\", arr)\n",
    "for i in np.arange(0, 9):\n",
    "    # Перемешиваем массив на месте\n",
    "    rnd.shuffle(arr)\n",
    "    print(i+1, \"shuffle ->\", arr)"
   ]
  },
  {
   "cell_type": "markdown",
   "metadata": {},
   "source": [
    "Сделаем перемешивание массива без изменения исходного:"
   ]
  },
  {
   "cell_type": "code",
   "execution_count": 33,
   "metadata": {},
   "outputs": [
    {
     "name": "stdout",
     "output_type": "stream",
     "text": [
      "Исходный массив: [67 31 26 42 73 80 51 10 25 23]\n",
      "1 shuffle -> [80 42 67 25 26 10 51 23 73 31]\n",
      "2 shuffle -> [80 51 67 31 10 26 23 25 73 42]\n",
      "3 shuffle -> [73 25 31 10 67 26 42 23 51 80]\n",
      "4 shuffle -> [25 51 67 80 23 42 73 26 31 10]\n",
      "5 shuffle -> [26 73 42 80 25 51 67 31 10 23]\n",
      "6 shuffle -> [23 51 80 73 67 31 42 26 10 25]\n",
      "7 shuffle -> [42 10 31 26 67 80 25 23 51 73]\n",
      "8 shuffle -> [51 73 25 31 26 80 42 10 23 67]\n",
      "9 shuffle -> [51 23 10 25 73 42 31 80 26 67]\n"
     ]
    }
   ],
   "source": [
    "arr = rnd.randint(0, 100 + 1, 10)\n",
    "print(\"Исходный массив:\", arr)\n",
    "for i in np.arange(0, 9):\n",
    "    print(i+1, \"shuffle ->\", rnd.permutation(arr))"
   ]
  },
  {
   "cell_type": "markdown",
   "metadata": {},
   "source": [
    "Найдем максимум и минимум в массиве:"
   ]
  },
  {
   "cell_type": "code",
   "execution_count": 34,
   "metadata": {},
   "outputs": [
    {
     "name": "stdout",
     "output_type": "stream",
     "text": [
      "Исходный массив: [[1 1 4]\n",
      " [0 5 7]\n",
      " [0 6 2]]\n",
      "Минимум: 0\n",
      "Максимум: 7\n"
     ]
    }
   ],
   "source": [
    "arr = rnd.randint(0, 16, [3,3])\n",
    "print(\"Исходный массив:\", arr)\n",
    "print(\"Минимум:\", np.amin(arr))\n",
    "print(\"Максимум:\", np.amax(arr))"
   ]
  }
 ],
 "metadata": {
  "kernelspec": {
   "display_name": "Python 3",
   "language": "python",
   "name": "python3"
  },
  "language_info": {
   "codemirror_mode": {
    "name": "ipython",
    "version": 3
   },
   "file_extension": ".py",
   "mimetype": "text/x-python",
   "name": "python",
   "nbconvert_exporter": "python",
   "pygments_lexer": "ipython3",
   "version": "3.10.12"
  },
  "orig_nbformat": 4
 },
 "nbformat": 4,
 "nbformat_minor": 2
}
